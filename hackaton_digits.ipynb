{
  "nbformat": 4,
  "nbformat_minor": 0,
  "metadata": {
    "colab": {
      "provenance": [],
      "gpuType": "T4"
    },
    "kernelspec": {
      "name": "python3",
      "display_name": "Python 3"
    },
    "language_info": {
      "name": "python"
    },
    "accelerator": "GPU"
  },
  "cells": [
    {
      "cell_type": "code",
      "source": [
        "import tensorflow as tf\n",
        "from tensorflow.keras.preprocessing.image import ImageDataGenerator\n",
        "from dataclasses import dataclass\n",
        "import numpy as np\n",
        "from PIL import Image"
      ],
      "metadata": {
        "id": "iIosE_zQbOOu"
      },
      "execution_count": null,
      "outputs": []
    },
    {
      "cell_type": "code",
      "execution_count": null,
      "metadata": {
        "id": "Xoe3bx24PYrM"
      },
      "outputs": [],
      "source": [
        "import zipfile\n",
        "with zipfile.ZipFile('bilinmir.zip', 'r') as zip_ref:\n",
        "    zip_ref.extractall('bilinmir')"
      ]
    },
    {
      "cell_type": "code",
      "source": [
        "from keras.preprocessing.image import ImageDataGenerator\n",
        "\n",
        "data='/content/bilinmir/bilinmir'\n",
        "\n",
        "image_datagen = ImageDataGenerator(rescale=1/255,\n",
        "                                   rotation_range=0.4,\n",
        "                                   width_shift_range=0.2,\n",
        "                                   height_shift_range=0.2,\n",
        "                                   shear_range=0.2,\n",
        "                                   zoom_range=0.2,\n",
        "                                   horizontal_flip=True,\n",
        "                                   fill_mode='nearest')\n",
        "\n",
        "image_generator = image_datagen.flow_from_directory(data,\n",
        "                                                    target_size=(227, 227),\n",
        "                                                    class_mode='categorical',\n",
        "                                                    batch_size=128)"
      ],
      "metadata": {
        "colab": {
          "base_uri": "https://localhost:8080/"
        },
        "id": "-a63vDSCbXRq",
        "outputId": "d0a10492-3e17-4d2f-e6ea-c40003645a83"
      },
      "execution_count": null,
      "outputs": [
        {
          "output_type": "stream",
          "name": "stdout",
          "text": [
            "Found 10255 images belonging to 10 classes.\n"
          ]
        }
      ]
    },
    {
      "cell_type": "code",
      "source": [
        "base_model=tf.keras.applications.VGG16(include_top=False,\n",
        "    weights='imagenet',\n",
        "    input_tensor=None,\n",
        "    input_shape=(227,227,3))"
      ],
      "metadata": {
        "colab": {
          "base_uri": "https://localhost:8080/"
        },
        "id": "Y7kmuLj5cLLI",
        "outputId": "700d4a42-533e-4066-cc5f-0359453f9ad6"
      },
      "execution_count": null,
      "outputs": [
        {
          "output_type": "stream",
          "name": "stdout",
          "text": [
            "Downloading data from https://storage.googleapis.com/tensorflow/keras-applications/vgg16/vgg16_weights_tf_dim_ordering_tf_kernels_notop.h5\n",
            "58889256/58889256 [==============================] - 3s 0us/step\n"
          ]
        }
      ]
    },
    {
      "cell_type": "code",
      "source": [
        "for layer in base_model.layers[:-1]:\n",
        "    layer.trainable=False"
      ],
      "metadata": {
        "id": "p1oGFDFgcW1U"
      },
      "execution_count": null,
      "outputs": []
    },
    {
      "cell_type": "code",
      "source": [
        "model=tf.keras.models.Sequential()\n",
        "model.add(base_model)\n",
        "model.add(tf.keras.layers.Flatten())\n",
        "model.add(tf.keras.layers.Dense(128,activation='relu'))\n",
        "model.add(tf.keras.layers.Dense(10,activation='softmax'))\n",
        "model.compile(loss='categorical_crossentropy',optimizer='adam',metrics='accuracy')"
      ],
      "metadata": {
        "id": "f5pJq4IpcXbQ"
      },
      "execution_count": null,
      "outputs": []
    },
    {
      "cell_type": "code",
      "source": [
        "model.fit(image_generator,epochs=10)"
      ],
      "metadata": {
        "colab": {
          "base_uri": "https://localhost:8080/"
        },
        "id": "342zT2PqdF1_",
        "outputId": "305361f0-2f33-46c7-af69-289fd1d9c78d"
      },
      "execution_count": null,
      "outputs": [
        {
          "output_type": "stream",
          "name": "stdout",
          "text": [
            "Epoch 1/10\n",
            "81/81 [==============================] - 174s 2s/step - loss: 1.0489 - accuracy: 0.7450\n",
            "Epoch 2/10\n",
            "81/81 [==============================] - 149s 2s/step - loss: 0.2641 - accuracy: 0.9267\n",
            "Epoch 3/10\n",
            "81/81 [==============================] - 150s 2s/step - loss: 0.1880 - accuracy: 0.9450\n",
            "Epoch 4/10\n",
            "81/81 [==============================] - 148s 2s/step - loss: 0.1503 - accuracy: 0.9539\n",
            "Epoch 5/10\n",
            "81/81 [==============================] - 149s 2s/step - loss: 0.1384 - accuracy: 0.9583\n",
            "Epoch 6/10\n",
            "81/81 [==============================] - 149s 2s/step - loss: 0.1105 - accuracy: 0.9695\n",
            "Epoch 7/10\n",
            "81/81 [==============================] - 146s 2s/step - loss: 0.0997 - accuracy: 0.9709\n",
            "Epoch 8/10\n",
            "81/81 [==============================] - 147s 2s/step - loss: 0.0891 - accuracy: 0.9751\n",
            "Epoch 9/10\n",
            "81/81 [==============================] - 146s 2s/step - loss: 0.0890 - accuracy: 0.9732\n",
            "Epoch 10/10\n",
            "81/81 [==============================] - 148s 2s/step - loss: 0.0929 - accuracy: 0.9710\n"
          ]
        },
        {
          "output_type": "execute_result",
          "data": {
            "text/plain": [
              "<keras.callbacks.History at 0x7b0502afff10>"
            ]
          },
          "metadata": {},
          "execution_count": 8
        }
      ]
    },
    {
      "cell_type": "code",
      "source": [
        "model.save('model.h5')"
      ],
      "metadata": {
        "id": "MmPbqkdwFBXr"
      },
      "execution_count": null,
      "outputs": []
    },
    {
      "cell_type": "code",
      "source": [
        "from PIL import Image\n",
        "\n",
        "im = Image.open(\"/content/bilinmir/bilinmir/4/img005-00006.png\")\n",
        "print(im.size)\n",
        "im = im.resize((227, 227))\n",
        "print(im.size)\n",
        "im = im.convert(\"RGB\")\n",
        "print(im.size)"
      ],
      "metadata": {
        "colab": {
          "base_uri": "https://localhost:8080/"
        },
        "id": "cZ38oXGO0bdu",
        "outputId": "8b64f27b-5593-4e00-c569-cbbada57c93f"
      },
      "execution_count": null,
      "outputs": [
        {
          "output_type": "stream",
          "name": "stdout",
          "text": [
            "(50, 81)\n",
            "(227, 227)\n",
            "(227, 227)\n"
          ]
        }
      ]
    },
    {
      "cell_type": "code",
      "source": [
        "im = np.array(im)"
      ],
      "metadata": {
        "id": "Ku44Ecyx2fms"
      },
      "execution_count": null,
      "outputs": []
    },
    {
      "cell_type": "code",
      "source": [
        "im.shape\n",
        "\n",
        "im = im.reshape((1, 227, 227, 3))"
      ],
      "metadata": {
        "id": "4j5P__eS2wDb"
      },
      "execution_count": null,
      "outputs": []
    },
    {
      "cell_type": "code",
      "source": [
        "np.argmax(model.predict(im))"
      ],
      "metadata": {
        "colab": {
          "base_uri": "https://localhost:8080/"
        },
        "id": "Ci-LRmXn2yjP",
        "outputId": "7ea35336-e2c2-4e3b-f71f-010f3aeae4bf"
      },
      "execution_count": null,
      "outputs": [
        {
          "output_type": "stream",
          "name": "stdout",
          "text": [
            "1/1 [==============================] - 0s 32ms/step\n"
          ]
        },
        {
          "output_type": "execute_result",
          "data": {
            "text/plain": [
              "4"
            ]
          },
          "metadata": {},
          "execution_count": 16
        }
      ]
    },
    {
      "cell_type": "code",
      "source": [
        "model.summary()"
      ],
      "metadata": {
        "colab": {
          "base_uri": "https://localhost:8080/"
        },
        "id": "-9RlBCNt3TUy",
        "outputId": "ad66d07f-8f7d-4cfc-bf3b-c7fda6618813"
      },
      "execution_count": null,
      "outputs": [
        {
          "output_type": "stream",
          "name": "stdout",
          "text": [
            "Model: \"sequential_1\"\n",
            "_________________________________________________________________\n",
            " Layer (type)                Output Shape              Param #   \n",
            "=================================================================\n",
            " vgg16 (Functional)          (None, 7, 7, 512)         14714688  \n",
            "                                                                 \n",
            " flatten_1 (Flatten)         (None, 25088)             0         \n",
            "                                                                 \n",
            " dense_2 (Dense)             (None, 128)               3211392   \n",
            "                                                                 \n",
            " dense_3 (Dense)             (None, 10)                1290      \n",
            "                                                                 \n",
            "=================================================================\n",
            "Total params: 17,927,370\n",
            "Trainable params: 3,212,682\n",
            "Non-trainable params: 14,714,688\n",
            "_________________________________________________________________\n"
          ]
        }
      ]
    },
    {
      "cell_type": "code",
      "source": [
        "import numpy as np\n",
        "from PIL import Image\n",
        "\n",
        "def process_image(image_path, model):\n",
        "    im = Image.open(image_path)\n",
        "    print(im.size)\n",
        "    im = im.resize((227, 227))\n",
        "    print(im.size)\n",
        "    im = im.convert(\"RGB\")\n",
        "    print(im.size)\n",
        "    im = np.array(im)\n",
        "    im = im.reshape((1, 227, 227, 3))\n",
        "    prediction = np.argmax(model.predict(im))\n",
        "\n",
        "    return prediction\n"
      ],
      "metadata": {
        "id": "U8jdVbS34J6y"
      },
      "execution_count": null,
      "outputs": []
    },
    {
      "cell_type": "code",
      "source": [
        "process_image('/content/bilinmir/bilinmir/9/img010-00055.png',model)"
      ],
      "metadata": {
        "colab": {
          "base_uri": "https://localhost:8080/"
        },
        "id": "kI3cTYkm55Fe",
        "outputId": "ed8fcae6-101a-4141-b9ed-9601213f2ea4"
      },
      "execution_count": null,
      "outputs": [
        {
          "output_type": "stream",
          "name": "stdout",
          "text": [
            "(128, 128)\n",
            "(227, 227)\n",
            "(227, 227)\n",
            "1/1 [==============================] - 0s 22ms/step\n"
          ]
        },
        {
          "output_type": "execute_result",
          "data": {
            "text/plain": [
              "9"
            ]
          },
          "metadata": {},
          "execution_count": 88
        }
      ]
    }
  ]
}